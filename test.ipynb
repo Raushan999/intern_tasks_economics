{
 "cells": [
  {
   "cell_type": "code",
   "execution_count": 22,
   "id": "a126ba6d",
   "metadata": {},
   "outputs": [],
   "source": [
    "import pandas as pd\n",
    "import numpy as np\n",
    "import matplotlib.pyplot as plt"
   ]
  },
  {
   "cell_type": "code",
   "execution_count": 38,
   "id": "67c1a32e",
   "metadata": {},
   "outputs": [],
   "source": [
    "# pip install matplotlib\n",
    "# !pip install scipy\n",
    "# !pip install statsmodels"
   ]
  },
  {
   "cell_type": "markdown",
   "id": "e0eaf3c8",
   "metadata": {},
   "source": [
    "1. Load the data in a software of your choice (python)."
   ]
  },
  {
   "cell_type": "code",
   "execution_count": 9,
   "id": "7d372e01",
   "metadata": {},
   "outputs": [
    {
     "data": {
      "text/html": [
       "<div>\n",
       "<style scoped>\n",
       "    .dataframe tbody tr th:only-of-type {\n",
       "        vertical-align: middle;\n",
       "    }\n",
       "\n",
       "    .dataframe tbody tr th {\n",
       "        vertical-align: top;\n",
       "    }\n",
       "\n",
       "    .dataframe thead th {\n",
       "        text-align: right;\n",
       "    }\n",
       "</style>\n",
       "<table border=\"1\" class=\"dataframe\">\n",
       "  <thead>\n",
       "    <tr style=\"text-align: right;\">\n",
       "      <th></th>\n",
       "      <th>Income</th>\n",
       "      <th>Consumption</th>\n",
       "      <th>Gender</th>\n",
       "    </tr>\n",
       "  </thead>\n",
       "  <tbody>\n",
       "    <tr>\n",
       "      <th>0</th>\n",
       "      <td>112501.0</td>\n",
       "      <td>93432.64388</td>\n",
       "      <td>0</td>\n",
       "    </tr>\n",
       "    <tr>\n",
       "      <th>1</th>\n",
       "      <td>550001.0</td>\n",
       "      <td>524903.74890</td>\n",
       "      <td>1</td>\n",
       "    </tr>\n",
       "    <tr>\n",
       "      <th>2</th>\n",
       "      <td>253001.0</td>\n",
       "      <td>167628.65380</td>\n",
       "      <td>0</td>\n",
       "    </tr>\n",
       "  </tbody>\n",
       "</table>\n",
       "</div>"
      ],
      "text/plain": [
       "     Income   Consumption  Gender\n",
       "0  112501.0   93432.64388       0\n",
       "1  550001.0  524903.74890       1\n",
       "2  253001.0  167628.65380       0"
      ]
     },
     "execution_count": 9,
     "metadata": {},
     "output_type": "execute_result"
    }
   ],
   "source": [
    "df = pd.read_csv(\"data_income_consumption_gender.csv\")\n",
    "df.head(3)\n",
    "# Income, Consumption, Male(1)/ Female (0)"
   ]
  },
  {
   "cell_type": "code",
   "execution_count": null,
   "id": "7760205c",
   "metadata": {},
   "outputs": [],
   "source": [
    "# The task is to estimate the marginal propensity for consumption (model: cons ~ mpc*income + beta*control variables +error)."
   ]
  },
  {
   "cell_type": "markdown",
   "id": "c3aa1f7d",
   "metadata": {},
   "source": [
    "2. Create a table with summary statistics for the three variables."
   ]
  },
  {
   "cell_type": "code",
   "execution_count": 14,
   "id": "7bf497a3",
   "metadata": {},
   "outputs": [
    {
     "data": {
      "text/html": [
       "<div>\n",
       "<style scoped>\n",
       "    .dataframe tbody tr th:only-of-type {\n",
       "        vertical-align: middle;\n",
       "    }\n",
       "\n",
       "    .dataframe tbody tr th {\n",
       "        vertical-align: top;\n",
       "    }\n",
       "\n",
       "    .dataframe thead th {\n",
       "        text-align: right;\n",
       "    }\n",
       "</style>\n",
       "<table border=\"1\" class=\"dataframe\">\n",
       "  <thead>\n",
       "    <tr style=\"text-align: right;\">\n",
       "      <th></th>\n",
       "      <th>Income</th>\n",
       "      <th>Consumption</th>\n",
       "      <th>Gender</th>\n",
       "    </tr>\n",
       "  </thead>\n",
       "  <tbody>\n",
       "    <tr>\n",
       "      <th>count</th>\n",
       "      <td>9.610000e+02</td>\n",
       "      <td>9.610000e+02</td>\n",
       "      <td>961.000000</td>\n",
       "    </tr>\n",
       "    <tr>\n",
       "      <th>mean</th>\n",
       "      <td>2.575565e+05</td>\n",
       "      <td>2.401659e+05</td>\n",
       "      <td>0.529657</td>\n",
       "    </tr>\n",
       "    <tr>\n",
       "      <th>std</th>\n",
       "      <td>1.846497e+05</td>\n",
       "      <td>1.425792e+05</td>\n",
       "      <td>0.499380</td>\n",
       "    </tr>\n",
       "    <tr>\n",
       "      <th>min</th>\n",
       "      <td>1.890100e+04</td>\n",
       "      <td>0.000000e+00</td>\n",
       "      <td>0.000000</td>\n",
       "    </tr>\n",
       "    <tr>\n",
       "      <th>25%</th>\n",
       "      <td>1.470010e+05</td>\n",
       "      <td>1.488651e+05</td>\n",
       "      <td>0.000000</td>\n",
       "    </tr>\n",
       "    <tr>\n",
       "      <th>50%</th>\n",
       "      <td>2.050010e+05</td>\n",
       "      <td>2.262722e+05</td>\n",
       "      <td>1.000000</td>\n",
       "    </tr>\n",
       "    <tr>\n",
       "      <th>75%</th>\n",
       "      <td>3.087010e+05</td>\n",
       "      <td>3.085111e+05</td>\n",
       "      <td>1.000000</td>\n",
       "    </tr>\n",
       "    <tr>\n",
       "      <th>max</th>\n",
       "      <td>1.641001e+06</td>\n",
       "      <td>1.141876e+06</td>\n",
       "      <td>1.000000</td>\n",
       "    </tr>\n",
       "  </tbody>\n",
       "</table>\n",
       "</div>"
      ],
      "text/plain": [
       "             Income   Consumption      Gender\n",
       "count  9.610000e+02  9.610000e+02  961.000000\n",
       "mean   2.575565e+05  2.401659e+05    0.529657\n",
       "std    1.846497e+05  1.425792e+05    0.499380\n",
       "min    1.890100e+04  0.000000e+00    0.000000\n",
       "25%    1.470010e+05  1.488651e+05    0.000000\n",
       "50%    2.050010e+05  2.262722e+05    1.000000\n",
       "75%    3.087010e+05  3.085111e+05    1.000000\n",
       "max    1.641001e+06  1.141876e+06    1.000000"
      ]
     },
     "execution_count": 14,
     "metadata": {},
     "output_type": "execute_result"
    }
   ],
   "source": [
    "df.describe()"
   ]
  },
  {
   "cell_type": "markdown",
   "id": "a549b01c",
   "metadata": {},
   "source": [
    "3. Plot an empirical histogram of income. \n",
    "Ensure that the histogram is normalized properly so that the area under the curve in integrated to 1."
   ]
  },
  {
   "cell_type": "code",
   "execution_count": 26,
   "id": "7d8d3e84",
   "metadata": {},
   "outputs": [
    {
     "data": {
      "image/png": "[encoded data removed]",
      "text/plain": [
       "<Figure size 800x600 with 1 Axes>"
      ]
     },
     "metadata": {},
     "output_type": "display_data"
    }
   ],
   "source": [
    "# Plot a normalized histogram\n",
    "plt.figure(figsize=(8, 6))\n",
    "plt.hist(df['Income'], bins=30, density=True, alpha=0.7, color='skyblue', edgecolor='black')\n",
    "\n",
    "# Add labels and title\n",
    "plt.xlabel('Income')\n",
    "plt.ylabel('Density')\n",
    "plt.title('Normalized Histogram of Income')\n",
    "plt.grid(True)"
   ]
  },
  {
   "cell_type": "markdown",
   "id": "4c6a8c8e",
   "metadata": {},
   "source": [
    "4. Using maximum likelihood (or any other method), fit a Lognormal distribution and\n",
    "a Gamma distribution to the empirical probability density function of income. Plot\n",
    "both distributions on top of the raw data. Discuss which one has better fit and\n",
    "describe based on which metric you would choose the best fit distribution."
   ]
  },
  {
   "cell_type": "code",
   "execution_count": 33,
   "id": "7f2a9cad",
   "metadata": {},
   "outputs": [
    {
     "data": {
      "image/png": "[encoded data removed]",
      "text/plain": [
       "<Figure size 1000x700 with 1 Axes>"
      ]
     },
     "metadata": {},
     "output_type": "display_data"
    }
   ],
   "source": [
    "import numpy as np\n",
    "import matplotlib.pyplot as plt\n",
    "import scipy.stats as stats\n",
    "\n",
    "# Step 1: Plot normalized histogram\n",
    "plt.figure(figsize=(10, 7))\n",
    "count, bins, ignored = plt.hist(df['Income'], bins=30, density=True, alpha=0.5, color='lightgrey', edgecolor='black', label='Empirical Data')\n",
    "\n",
    "# Step 2: Fit Lognormal distribution\n",
    "shape_lognorm, loc_lognorm, scale_lognorm = stats.lognorm.fit(df['Income'], floc=0)  # fixing loc=0 is common\n",
    "\n",
    "# Step 3: Fit Gamma distribution\n",
    "alpha_gamma, loc_gamma, scale_gamma = stats.gamma.fit(df['Income'], floc=0)\n",
    "\n",
    "# Step 4: Plot the fitted PDFs\n",
    "x = np.linspace(df['Income'].min(), df['Income'].max(), 1000)\n",
    "\n",
    "# Lognormal PDF\n",
    "pdf_lognorm = stats.lognorm.pdf(x, shape_lognorm, loc_lognorm, scale_lognorm)\n",
    "plt.plot(x, pdf_lognorm, 'r-', lw=2, label='Lognormal fit')\n",
    "\n",
    "# Gamma PDF\n",
    "pdf_gamma = stats.gamma.pdf(x, alpha_gamma, loc_gamma, scale_gamma)\n",
    "plt.plot(x, pdf_gamma, 'b-', lw=2, label='Gamma fit')\n",
    "\n",
    "# Step 5: Finalize plot\n",
    "plt.xlabel('Income')\n",
    "plt.ylabel('Density')\n",
    "plt.title('Fitting Lognormal and Gamma Distributions to Income Data')\n",
    "plt.legend()\n",
    "plt.grid(True)\n",
    "plt.show()\n"
   ]
  },
  {
   "cell_type": "markdown",
   "id": "e3a6873b",
   "metadata": {},
   "source": [
    "Now, How to Decide Which Fit is Better?\n",
    "We use goodness-of-fit metrics:\n",
    "\n",
    "Log-Likelihood: Higher is better.\n",
    "\n",
    "AIC (Akaike Information Criterion): Lower is better.\n",
    "\n",
    "BIC (Bayesian Information Criterion): Lower is better."
   ]
  },
  {
   "cell_type": "markdown",
   "id": "870795ee",
   "metadata": {},
   "source": [
    "##### Let's compute them"
   ]
  },
  {
   "cell_type": "code",
   "execution_count": 34,
   "id": "b6daae05",
   "metadata": {},
   "outputs": [
    {
     "name": "stdout",
     "output_type": "stream",
     "text": [
      "Lognormal: Log-Likelihood=-12678.31, AIC=25360.62, BIC=25370.35\n",
      "Gamma: Log-Likelihood=-12719.18, AIC=25442.35, BIC=25452.09\n"
     ]
    }
   ],
   "source": [
    "# Log-likelihoods\n",
    "loglik_lognorm = np.sum(stats.lognorm.logpdf(df['Income'], shape_lognorm, loc_lognorm, scale_lognorm))\n",
    "loglik_gamma = np.sum(stats.gamma.logpdf(df['Income'], alpha_gamma, loc_gamma, scale_gamma))\n",
    "\n",
    "# Number of parameters\n",
    "k_lognorm = 2  # shape and scale (loc fixed to 0)\n",
    "k_gamma = 2    # alpha and scale (loc fixed to 0)\n",
    "\n",
    "# AIC\n",
    "AIC_lognorm = 2 * k_lognorm - 2 * loglik_lognorm\n",
    "AIC_gamma = 2 * k_gamma - 2 * loglik_gamma\n",
    "\n",
    "# BIC\n",
    "n = len(df['Income'])\n",
    "BIC_lognorm = np.log(n) * k_lognorm - 2 * loglik_lognorm\n",
    "BIC_gamma = np.log(n) * k_gamma - 2 * loglik_gamma\n",
    "\n",
    "print(f\"Lognormal: Log-Likelihood={loglik_lognorm:.2f}, AIC={AIC_lognorm:.2f}, BIC={BIC_lognorm:.2f}\")\n",
    "print(f\"Gamma: Log-Likelihood={loglik_gamma:.2f}, AIC={AIC_gamma:.2f}, BIC={BIC_gamma:.2f}\")\n"
   ]
  },
  {
   "cell_type": "markdown",
   "id": "c1ef3912",
   "metadata": {},
   "source": [
    "- AIC and BIC are lower for Lognormal, it fits better.\n",
    "- Also it is visible in the plotted histogram that Lognormal hugs the original plot more better than the Gamma."
   ]
  },
  {
   "cell_type": "markdown",
   "id": "91a5f06d",
   "metadata": {},
   "source": []
  },
  {
   "cell_type": "markdown",
   "id": "70e1ef6a",
   "metadata": {},
   "source": [
    "6. Estimating MPC: Regress consumption on income and the gender dummy as a control variable. \n"
   ]
  },
  {
   "cell_type": "code",
   "execution_count": 39,
   "id": "0d2cf0b8",
   "metadata": {},
   "outputs": [
    {
     "name": "stdout",
     "output_type": "stream",
     "text": [
      "                            OLS Regression Results                            \n",
      "==============================================================================\n",
      "Dep. Variable:            Consumption   R-squared:                       0.592\n",
      "Model:                            OLS   Adj. R-squared:                  0.591\n",
      "Method:                 Least Squares   F-statistic:                     694.3\n",
      "Date:                Sun, 11 May 2025   Prob (F-statistic):          4.36e-187\n",
      "Time:                        12:31:32   Log-Likelihood:                -12337.\n",
      "No. Observations:                 961   AIC:                         2.468e+04\n",
      "Df Residuals:                     958   BIC:                         2.470e+04\n",
      "Df Model:                           2                                         \n",
      "Covariance Type:            nonrobust                                         \n",
      "==============================================================================\n",
      "                 coef    std err          t      P>|t|      [0.025      0.975]\n",
      "------------------------------------------------------------------------------\n",
      "const       8.473e+04   5866.294     14.444      0.000    7.32e+04    9.62e+04\n",
      "Income         0.5934      0.016     37.204      0.000       0.562       0.625\n",
      "Gender      4912.5943   5897.430      0.833      0.405   -6660.779    1.65e+04\n",
      "==============================================================================\n",
      "Omnibus:                        2.103   Durbin-Watson:                   2.043\n",
      "Prob(Omnibus):                  0.349   Jarque-Bera (JB):                1.977\n",
      "Skew:                           0.078   Prob(JB):                        0.372\n",
      "Kurtosis:                       3.158   Cond. No.                     7.78e+05\n",
      "==============================================================================\n",
      "\n",
      "Notes:\n",
      "[1] Standard Errors assume that the covariance matrix of the errors is correctly specified.\n",
      "[2] The condition number is large, 7.78e+05. This might indicate that there are\n",
      "strong multicollinearity or other numerical problems.\n"
     ]
    }
   ],
   "source": [
    "import statsmodels.api as sm\n",
    "\n",
    "# Define X and y\n",
    "X = df[['Income', 'Gender']]  # make sure gender_dummy is already 0/1\n",
    "X = sm.add_constant(X)  # Adds intercept term\n",
    "y = df['Consumption']\n",
    "\n",
    "# Fit the OLS model\n",
    "model = sm.OLS(y, X).fit()\n",
    "\n",
    "# Print the summary\n",
    "print(model.summary())\n"
   ]
  },
  {
   "cell_type": "markdown",
   "id": "2aac67c3",
   "metadata": {},
   "source": [
    "#### we can see that the coefficients are:- \n",
    "- const (intercept): 8.473e+04, p-value = 0.000\n",
    "- Income (MPC):   0.5934, p-value = 0.000\n",
    "\n",
    "Clearly the p-values are lesser than 0.05 (our chosen significant level); hence the values of intercept and MPC are significant.\n",
    "\n",
    "MPC = 0.5934 →\n",
    "For every ₹1/$1 increase in income, consumption increases by ₹0.5934, controlling for gender.\n",
    "\n",
    "gender_dummy = 4912.5943 →\n",
    "Male-headed households consume ₹4912.5943 more (on average), controlling for income."
   ]
  },
  {
   "cell_type": "code",
   "execution_count": null,
   "id": "9470e8ee",
   "metadata": {},
   "outputs": [],
   "source": []
  },
  {
   "cell_type": "markdown",
   "id": "f614ac93",
   "metadata": {},
   "source": [
    "6. Discuss the magnitude of estimated MPC in view of the relevant literature (you may search online and provide at most three important references from international journals). Discuss the precision of the estimates."
   ]
  },
  {
   "cell_type": "markdown",
   "id": "94b34b93",
   "metadata": {},
   "source": []
  }
 ],
 "metadata": {
  "kernelspec": {
   "display_name": "Python 3",
   "language": "python",
   "name": "python3"
  },
  "language_info": {
   "codemirror_mode": {
    "name": "ipython",
    "version": 3
   },
   "file_extension": ".py",
   "mimetype": "text/x-python",
   "name": "python",
   "nbconvert_exporter": "python",
   "pygments_lexer": "ipython3",
   "version": "3.11.7"
  }
 },
 "nbformat": 4,
 "nbformat_minor": 5
}
